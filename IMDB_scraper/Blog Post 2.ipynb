{
 "cells": [
  {
   "cell_type": "markdown",
   "id": "1fbfdcb5",
   "metadata": {},
   "source": [
    "## What’s your favorite movie or TV show? - Tutorial on Webscraping IMDB"
   ]
  },
  {
   "cell_type": "markdown",
   "id": "52fe5b27",
   "metadata": {},
   "source": [
    "In this blog post, we are going to look at an interesting application of webscraping!!! We would like to develop a recommender system to see which movie or TV shows share actors with your favorite movie or show. Here is a link to my project repository: https://github.com/Stellawww/whats-your-fav-movie."
   ]
  },
  {
   "cell_type": "markdown",
   "id": "83efe7f1",
   "metadata": {},
   "source": [
    "## Running through the Navigation Process"
   ]
  },
  {
   "cell_type": "markdown",
   "id": "8c80d361",
   "metadata": {},
   "source": [
    "To get familiar with the nagivation process our scraper would take, we start by practice clicking through the navigation steps on the IMDB website.\n",
    "* First, we could pick the favorite movie on IMDB page. Note that its page link is \n",
    "`https://www.imdb.com/title/tt3281548/`.\n",
    "* Next, click on the *Cast & Crew* section, this would take to a page where its url is like `<original_url>fullcredits/`.\n",
    "* Then, scroll down on the page and click on one of the actors' head photo, this would then direct to another page which contains information of the actor's past work in the *Filmography* section.\n",
    "\n",
    "Our scraper is going to replicate this process and record actors names and titles of their movies and TV shows."
   ]
  },
  {
   "cell_type": "markdown",
   "id": "63f4da8b",
   "metadata": {},
   "source": [
    "## Setting up the Project"
   ]
  },
  {
   "cell_type": "markdown",
   "id": "4a73d006",
   "metadata": {},
   "source": [
    "Open a terminal in the location of your repository and type the following code. This will create a IMDB_scraper project on you laptop."
   ]
  },
  {
   "cell_type": "code",
   "execution_count": null,
   "id": "698359dd",
   "metadata": {},
   "outputs": [],
   "source": [
    "conda activate PIC16B\n",
    "scrapy startproject IMDB_scraper\n",
    "cd IMDB_scraper"
   ]
  },
  {
   "cell_type": "markdown",
   "id": "1ce879b4",
   "metadata": {},
   "source": [
    "Then, create a file inside the `spiders` directory called `imdb_spider.py` and we can finally start working on our scraper!"
   ]
  },
  {
   "cell_type": "markdown",
   "id": "0852c2ac",
   "metadata": {},
   "source": [
    "## Constructing the Scraper"
   ]
  },
  {
   "cell_type": "markdown",
   "id": "20ae3e9c",
   "metadata": {},
   "source": [
    "import the scrapy librabry which allows us to perfrom the web scraping.\n",
    "We need to define a spider class for scraping. "
   ]
  },
  {
   "cell_type": "code",
   "execution_count": null,
   "id": "7cbca4b6",
   "metadata": {},
   "outputs": [],
   "source": [
    "import scrapy\n",
    "\n",
    "class ImdbSpider(scrapy.Spider):\n",
    "    name = 'imdb_spider'\n",
    "    \n",
    "    # the url of my favorite movie or TV show\n",
    "    start_urls = ['https://www.imdb.com/title/tt3281548/']\n"
   ]
  },
  {
   "cell_type": "markdown",
   "id": "fc317f40",
   "metadata": {},
   "source": [
    "Inside the *ImdbSpider* class, we are going to define three parsing methods: \n",
    "* `parse()`\n",
    "* `parse_full_credits()`\n",
    "* `parse_actor_page()`"
   ]
  },
  {
   "cell_type": "code",
   "execution_count": null,
   "id": "598aa33d",
   "metadata": {},
   "outputs": [],
   "source": [
    "def parse(self, response):\n",
    "\n",
    "        \"\"\"\n",
    "        This parser method assumes that you are on your favorite movie page.\n",
    "        It then navigates you to the Cast & Crew page. Once you are there,\n",
    "        parse_full_credits() method is called. \n",
    "        Note that this method returns no data.\n",
    "        \"\"\"\n",
    "\n",
    "        # specify the Caste&Crew's url and request to go to that page\n",
    "\n",
    "        caste_crew_url = 'https://www.imdb.com/title/tt3281548/fullcredits/'\n",
    "        yield scrapy.Request(caste_crew_url, callback = self.parse_full_credits)"
   ]
  },
  {
   "cell_type": "markdown",
   "id": "3ba574f8",
   "metadata": {},
   "source": [
    "Assuming that you are on your favorite movie page, the above `parse()` method works by taking you to the *Cast & Crew* page and call the next parser method `parse_full_credits()`."
   ]
  },
  {
   "cell_type": "code",
   "execution_count": null,
   "id": "d980dfde",
   "metadata": {},
   "outputs": [],
   "source": [
    "def parse_full_credits(self, response):\n",
    "\n",
    "        \"\"\"\n",
    "        This parser method assumes that you are on the Cast & Crew page. \n",
    "        It then parse links data of each actor listed on the page and yield a\n",
    "        request to go to each actor's page. When the actor's page is reached,\n",
    "        parse_actor_page() method is called.\n",
    "        Note that this method returns no data.\n",
    "        \"\"\"\n",
    "\n",
    "        # create a list of relative paths corresponding to each actor\n",
    "        suffix_links = [a.attrib[\"href\"] for a in response.css(\"td.primary_photo a\")]\n",
    "\n",
    "        # iterate through the suffix_links and request to go to each actor's page\n",
    "        # and call the next parser method\n",
    "        for suffix in suffix_links:\n",
    "            actor_links = \"https://www.imdb.com\" + suffix\n",
    "            yield scrapy.Request(actor_links, callback = self.parse_actor_page)"
   ]
  },
  {
   "cell_type": "markdown",
   "id": "cc1edf35",
   "metadata": {},
   "source": [
    "Now after we get to the *Cast & Crew* page, the above `parse_full_credits()` method uses css selectors to get the links to each actor's page. This works as if we are clicking on an actor's headsoht. Then the `scrapy.Request()` takes us to each actor's page and call the next parser method `parse_actor_page()`. "
   ]
  },
  {
   "cell_type": "code",
   "execution_count": null,
   "id": "614f9143",
   "metadata": {},
   "outputs": [],
   "source": [
    "def parse_actor_page(self, response):\n",
    "\n",
    "        \"\"\"\n",
    "        This parser method assumes that you are on an actor's page. \n",
    "        It then parse the actor's name and movies or TV shows that the actor participated in.\n",
    "        It yields a dictionary that contains actors' names and corresponding movies.\n",
    "        \"\"\"\n",
    "\n",
    "        # get the actor's name once we are on the actor's page\n",
    "        actor_name = response.css(\"span.itemprop::text\").get()\n",
    "\n",
    "        # iterate through the boxes that contains movie or TV titles\n",
    "        # and get the list of their titles \n",
    "        for movie_or_TV_boxes in response.css(\"div.filmo-row\"):\n",
    "\n",
    "            movie_or_TV_name = [movie_or_TV_boxes.css(\"a:first-child::text\").get()]\n",
    "\n",
    "            # return the dictionary pairing actor names and movies they worked \n",
    "            yield{\n",
    "            \"actor\" : actor_name, \n",
    "            \"movie_or_TV_name\" : movie_or_TV_name\n",
    "            }"
   ]
  },
  {
   "cell_type": "markdown",
   "id": "6e5951c2",
   "metadata": {},
   "source": [
    "Cool now we get to the actor's page, the above `parse_actor_page()` obtains the actor's name and movie/TV names by using css selector on the current response. Finally, it yeids a dictionary containing all of the actor names and movies/TVs that they worked."
   ]
  },
  {
   "cell_type": "markdown",
   "id": "81eef5e7",
   "metadata": {},
   "source": [
    "## Making Recommendations "
   ]
  },
  {
   "cell_type": "markdown",
   "id": "553dacf1",
   "metadata": {},
   "source": [
    "After we are done with constructing the scraper, running `scrapy crawl imdb_spider -o results.csv` in the terminal will save a `.csv` file called \"result\" in the **IMDB_scraper** folder. To access the resulting data, we would use the `pandas` library to read in the csv file."
   ]
  },
  {
   "cell_type": "code",
   "execution_count": 1,
   "id": "474a194f",
   "metadata": {},
   "outputs": [],
   "source": [
    "import pandas as pd"
   ]
  },
  {
   "cell_type": "code",
   "execution_count": 2,
   "id": "940e5927",
   "metadata": {
    "scrolled": true
   },
   "outputs": [],
   "source": [
    "df = pd.read_csv(\"results.csv\")"
   ]
  },
  {
   "cell_type": "code",
   "execution_count": 3,
   "id": "55f2f3dc",
   "metadata": {},
   "outputs": [],
   "source": [
    "# subsetting the dataframe to keep only the movie / TV names\n",
    "df = df[[\"movie_or_TV_name\"]]\n",
    "\n",
    "# rename the column\n",
    "df = df.rename(columns={\"movie_or_TV_name\":\"Movie or TV Show\"})"
   ]
  },
  {
   "cell_type": "code",
   "execution_count": 9,
   "id": "e4243091",
   "metadata": {},
   "outputs": [
    {
     "data": {
      "text/plain": [
       "pandas.core.series.Series"
      ]
     },
     "execution_count": 9,
     "metadata": {},
     "output_type": "execute_result"
    }
   ],
   "source": [
    "# return a Series containing counts of unique movie / TV show in df \n",
    "# in a descending order\n",
    "recommend = df.value_counts()\n",
    "\n",
    "type(recommend)\n",
    "\n",
    "# reset the index of the recommend Series so that the index is treated as a column\n",
    "# the \"name\" object is used to give a name for the column containing the original Series values\n",
    "recommend = recommend.reset_index(name = \"Number of Shared Actors\")"
   ]
  },
  {
   "cell_type": "code",
   "execution_count": 6,
   "id": "b02272fb",
   "metadata": {},
   "outputs": [
    {
     "data": {
      "text/html": [
       "<div>\n",
       "<style scoped>\n",
       "    .dataframe tbody tr th:only-of-type {\n",
       "        vertical-align: middle;\n",
       "    }\n",
       "\n",
       "    .dataframe tbody tr th {\n",
       "        vertical-align: top;\n",
       "    }\n",
       "\n",
       "    .dataframe thead th {\n",
       "        text-align: right;\n",
       "    }\n",
       "</style>\n",
       "<table border=\"1\" class=\"dataframe\">\n",
       "  <thead>\n",
       "    <tr style=\"text-align: right;\">\n",
       "      <th></th>\n",
       "      <th>Movie or TV Show</th>\n",
       "      <th>Number of Shared Actors</th>\n",
       "    </tr>\n",
       "  </thead>\n",
       "  <tbody>\n",
       "    <tr>\n",
       "      <th>0</th>\n",
       "      <td>Little Women</td>\n",
       "      <td>131</td>\n",
       "    </tr>\n",
       "    <tr>\n",
       "      <th>1</th>\n",
       "      <td>Old Hearts Cafe</td>\n",
       "      <td>21</td>\n",
       "    </tr>\n",
       "    <tr>\n",
       "      <th>2</th>\n",
       "      <td>Castle Rock</td>\n",
       "      <td>20</td>\n",
       "    </tr>\n",
       "    <tr>\n",
       "      <th>3</th>\n",
       "      <td>The Oscars</td>\n",
       "      <td>16</td>\n",
       "    </tr>\n",
       "    <tr>\n",
       "      <th>4</th>\n",
       "      <td>Kromz Homes: Dreams</td>\n",
       "      <td>15</td>\n",
       "    </tr>\n",
       "    <tr>\n",
       "      <th>5</th>\n",
       "      <td>Entertainment Tonight</td>\n",
       "      <td>15</td>\n",
       "    </tr>\n",
       "    <tr>\n",
       "      <th>6</th>\n",
       "      <td>Celebrity Page</td>\n",
       "      <td>15</td>\n",
       "    </tr>\n",
       "    <tr>\n",
       "      <th>7</th>\n",
       "      <td>Hollywood Insider</td>\n",
       "      <td>14</td>\n",
       "    </tr>\n",
       "    <tr>\n",
       "      <th>8</th>\n",
       "      <td>Don't Look Up</td>\n",
       "      <td>14</td>\n",
       "    </tr>\n",
       "    <tr>\n",
       "      <th>9</th>\n",
       "      <td>Spenser Confidential</td>\n",
       "      <td>11</td>\n",
       "    </tr>\n",
       "  </tbody>\n",
       "</table>\n",
       "</div>"
      ],
      "text/plain": [
       "        Movie or TV Show  Number of Shared Actors\n",
       "0           Little Women                      131\n",
       "1        Old Hearts Cafe                       21\n",
       "2            Castle Rock                       20\n",
       "3             The Oscars                       16\n",
       "4    Kromz Homes: Dreams                       15\n",
       "5  Entertainment Tonight                       15\n",
       "6         Celebrity Page                       15\n",
       "7      Hollywood Insider                       14\n",
       "8          Don't Look Up                       14\n",
       "9   Spenser Confidential                       11"
      ]
     },
     "execution_count": 6,
     "metadata": {},
     "output_type": "execute_result"
    }
   ],
   "source": [
    "recommend = recommend.head(10)\n",
    "recommend"
   ]
  },
  {
   "cell_type": "markdown",
   "id": "c8c517c8",
   "metadata": {},
   "source": [
    "The above dataframe shows the top 10 movies / TV shows that share most actors with my favorite movie!!"
   ]
  }
 ],
 "metadata": {
  "kernelspec": {
   "display_name": "Python [conda env:PIC16B] *",
   "language": "python",
   "name": "conda-env-PIC16B-py"
  },
  "language_info": {
   "codemirror_mode": {
    "name": "ipython",
    "version": 3
   },
   "file_extension": ".py",
   "mimetype": "text/x-python",
   "name": "python",
   "nbconvert_exporter": "python",
   "pygments_lexer": "ipython3",
   "version": "3.7.11"
  }
 },
 "nbformat": 4,
 "nbformat_minor": 5
}
