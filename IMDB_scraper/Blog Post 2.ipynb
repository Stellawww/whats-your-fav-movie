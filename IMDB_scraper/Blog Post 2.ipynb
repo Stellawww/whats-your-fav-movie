{
 "cells": [
  {
   "cell_type": "markdown",
   "id": "2481217b",
   "metadata": {},
   "source": [
    "## What’s your favorite movie or TV show? - Tutorial on Webscraping IMDB"
   ]
  },
  {
   "cell_type": "markdown",
   "id": "627e8f7d",
   "metadata": {},
   "source": [
    "In this blog post, we are going to look at an interesting application of webscraping!!! We would like to develop a recommender system to see which movie or TV shows share actors with your favorite movie or show. Here is a link to my project repository: "
   ]
  },
  {
   "cell_type": "code",
   "execution_count": null,
   "id": "253c4cc7",
   "metadata": {},
   "outputs": [],
   "source": [
    "import scrapy"
   ]
  },
  {
   "cell_type": "code",
   "execution_count": null,
   "id": "c1b5572f",
   "metadata": {},
   "outputs": [],
   "source": []
  },
  {
   "cell_type": "code",
   "execution_count": null,
   "id": "2b16f23b",
   "metadata": {},
   "outputs": [],
   "source": []
  },
  {
   "cell_type": "code",
   "execution_count": null,
   "id": "05e7a69c",
   "metadata": {},
   "outputs": [],
   "source": []
  },
  {
   "cell_type": "code",
   "execution_count": 1,
   "id": "75b1f132",
   "metadata": {},
   "outputs": [],
   "source": [
    "import pandas as pd"
   ]
  },
  {
   "cell_type": "code",
   "execution_count": 2,
   "id": "1b0c1d8d",
   "metadata": {
    "scrolled": true
   },
   "outputs": [],
   "source": [
    "df = pd.read_csv(\"results.csv\")"
   ]
  },
  {
   "cell_type": "code",
   "execution_count": 3,
   "id": "8cd0eb6a",
   "metadata": {},
   "outputs": [],
   "source": [
    "df = df[[\"movie_or_TV_name\"]]\n",
    "df = df.rename(columns={\"movie_or_TV_name\":\"Movie or TV Show\"})"
   ]
  },
  {
   "cell_type": "code",
   "execution_count": 4,
   "id": "771b8bb6",
   "metadata": {},
   "outputs": [],
   "source": [
    "recommend = df.value_counts()\n",
    "recommend = recommend.reset_index(name = \"Number of Shared Actors\")"
   ]
  },
  {
   "cell_type": "code",
   "execution_count": 6,
   "id": "97ae1a52",
   "metadata": {},
   "outputs": [
    {
     "data": {
      "text/html": [
       "<div>\n",
       "<style scoped>\n",
       "    .dataframe tbody tr th:only-of-type {\n",
       "        vertical-align: middle;\n",
       "    }\n",
       "\n",
       "    .dataframe tbody tr th {\n",
       "        vertical-align: top;\n",
       "    }\n",
       "\n",
       "    .dataframe thead th {\n",
       "        text-align: right;\n",
       "    }\n",
       "</style>\n",
       "<table border=\"1\" class=\"dataframe\">\n",
       "  <thead>\n",
       "    <tr style=\"text-align: right;\">\n",
       "      <th></th>\n",
       "      <th>Movie or TV Show</th>\n",
       "      <th>Number of Shared Actors</th>\n",
       "    </tr>\n",
       "  </thead>\n",
       "  <tbody>\n",
       "    <tr>\n",
       "      <th>0</th>\n",
       "      <td>Little Women</td>\n",
       "      <td>131</td>\n",
       "    </tr>\n",
       "    <tr>\n",
       "      <th>1</th>\n",
       "      <td>Old Hearts Cafe</td>\n",
       "      <td>21</td>\n",
       "    </tr>\n",
       "    <tr>\n",
       "      <th>2</th>\n",
       "      <td>Castle Rock</td>\n",
       "      <td>20</td>\n",
       "    </tr>\n",
       "    <tr>\n",
       "      <th>3</th>\n",
       "      <td>The Oscars</td>\n",
       "      <td>16</td>\n",
       "    </tr>\n",
       "    <tr>\n",
       "      <th>4</th>\n",
       "      <td>Kromz Homes: Dreams</td>\n",
       "      <td>15</td>\n",
       "    </tr>\n",
       "    <tr>\n",
       "      <th>5</th>\n",
       "      <td>Entertainment Tonight</td>\n",
       "      <td>15</td>\n",
       "    </tr>\n",
       "    <tr>\n",
       "      <th>6</th>\n",
       "      <td>Celebrity Page</td>\n",
       "      <td>15</td>\n",
       "    </tr>\n",
       "    <tr>\n",
       "      <th>7</th>\n",
       "      <td>Hollywood Insider</td>\n",
       "      <td>14</td>\n",
       "    </tr>\n",
       "    <tr>\n",
       "      <th>8</th>\n",
       "      <td>Don't Look Up</td>\n",
       "      <td>14</td>\n",
       "    </tr>\n",
       "    <tr>\n",
       "      <th>9</th>\n",
       "      <td>Spenser Confidential</td>\n",
       "      <td>11</td>\n",
       "    </tr>\n",
       "  </tbody>\n",
       "</table>\n",
       "</div>"
      ],
      "text/plain": [
       "        Movie or TV Show  Number of Shared Actors\n",
       "0           Little Women                      131\n",
       "1        Old Hearts Cafe                       21\n",
       "2            Castle Rock                       20\n",
       "3             The Oscars                       16\n",
       "4    Kromz Homes: Dreams                       15\n",
       "5  Entertainment Tonight                       15\n",
       "6         Celebrity Page                       15\n",
       "7      Hollywood Insider                       14\n",
       "8          Don't Look Up                       14\n",
       "9   Spenser Confidential                       11"
      ]
     },
     "execution_count": 6,
     "metadata": {},
     "output_type": "execute_result"
    }
   ],
   "source": [
    "recommend = recommend.head(10)\n",
    "recommend"
   ]
  },
  {
   "cell_type": "code",
   "execution_count": 55,
   "id": "695193d1",
   "metadata": {},
   "outputs": [
    {
     "data": {
      "text/plain": [
       "pandas.core.frame.DataFrame"
      ]
     },
     "execution_count": 55,
     "metadata": {},
     "output_type": "execute_result"
    }
   ],
   "source": []
  },
  {
   "cell_type": "code",
   "execution_count": null,
   "id": "2ab32dd9",
   "metadata": {},
   "outputs": [],
   "source": []
  }
 ],
 "metadata": {
  "kernelspec": {
   "display_name": "Python [conda env:PIC16B] *",
   "language": "python",
   "name": "conda-env-PIC16B-py"
  },
  "language_info": {
   "codemirror_mode": {
    "name": "ipython",
    "version": 3
   },
   "file_extension": ".py",
   "mimetype": "text/x-python",
   "name": "python",
   "nbconvert_exporter": "python",
   "pygments_lexer": "ipython3",
   "version": "3.7.11"
  }
 },
 "nbformat": 4,
 "nbformat_minor": 5
}
